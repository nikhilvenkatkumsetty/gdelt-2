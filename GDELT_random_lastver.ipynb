{
 "cells": [
  {
   "cell_type": "code",
   "execution_count": 1,
   "metadata": {},
   "outputs": [],
   "source": [
    "import pandas as pd\n",
    "import numpy as np\n",
    "\n",
    "import nltk\n",
    "from nltk.tokenize import word_tokenize\n",
    "from nltk.stem import WordNetLemmatizer\n",
    "from nltk.corpus import stopwords \n",
    "from nltk import pos_tag\n",
    "from nltk.tag import pos_tag\n",
    "\n",
    "import newspaper\n",
    "from newspaper import Article\n",
    "\n",
    "from sklearn.feature_extraction.text import TfidfTransformer\n",
    "from sklearn.feature_extraction import DictVectorizer\n",
    "from sklearn.decomposition import TruncatedSVD\n",
    "from sklearn.cluster import KMeans\n",
    "\n",
    "import re\n",
    "import time\n",
    "import string\n",
    "import json\n",
    "import operator\n",
    "from collections import Counter\n",
    "\n",
    "import matplotlib.pyplot as plt\n",
    "\n",
    "import glob"
   ]
  },
  {
   "cell_type": "code",
   "execution_count": 2,
   "metadata": {},
   "outputs": [],
   "source": [
    "#belakangan\n",
    "header = [\"GlobalEventId\", \"sqldate\", \"MonthYear\",\"Year\",\n",
    "               \"Actor1Code\",\"Actor1Name\",\"Actor1CountryCode\",\"Actor1KnownGroupCode\",\"Actor1Type1Code\",\n",
    "               \"Actor2Code\",\"Actor2Name\",\"Actor2CountryCode\",\"Actor2KnownGroupCode\",\"Actor2Type1Code\",\n",
    "               \"IsRootEvent\",\"EventCode\",\"EventBaseCode\",\"EventRootCode\",\n",
    "               \"QuadClass\",\"GoldsteinScale\",\"NumMentions\",\"NumSources\",\"NumArticles\",\"AvgTone\",\n",
    "               \"Actor1Geo_FullName\",\"Actor1Geo_CountryCode\",\"Actor1Geo_ADM1Code\",\"Actor1Geo_Lat\",\"Actor1Geo_Long\",\n",
    "               \"Actor2Geo_FullName\",\"Actor2Geo_CountryCode\",\"Actor2Geo_ADM1Code\",\"Actor2Geo_Lat\",\"Actor2Geo_Long\",\n",
    "               \"ActionGeo_FullName\",\"ActionGeo_CountryCode\",\"ActionGeo_ADM1Code\",\"ActionGeo_Lat\",\"ActionGeo_Long\",\n",
    "               \"SOURCEURL\"]"
   ]
  },
  {
   "cell_type": "code",
   "execution_count": 3,
   "metadata": {},
   "outputs": [
    {
     "name": "stderr",
     "output_type": "stream",
     "text": [
      "C:\\Users\\tryviana\\Anaconda3\\lib\\site-packages\\IPython\\core\\interactiveshell.py:2785: DtypeWarning: Columns (0,1,2,3,14,15,16,17,18,19,20,21,22,23,27,28,32,33,37,38) have mixed types. Specify dtype option on import or set low_memory=False.\n",
      "  interactivity=interactivity, compiler=compiler, result=result)\n"
     ]
    },
    {
     "data": {
      "text/html": [
       "<div>\n",
       "<style scoped>\n",
       "    .dataframe tbody tr th:only-of-type {\n",
       "        vertical-align: middle;\n",
       "    }\n",
       "\n",
       "    .dataframe tbody tr th {\n",
       "        vertical-align: top;\n",
       "    }\n",
       "\n",
       "    .dataframe thead th {\n",
       "        text-align: right;\n",
       "    }\n",
       "</style>\n",
       "<table border=\"1\" class=\"dataframe\">\n",
       "  <thead>\n",
       "    <tr style=\"text-align: right;\">\n",
       "      <th></th>\n",
       "      <th>GlobalEventId</th>\n",
       "      <th>sqldate</th>\n",
       "      <th>MonthYear</th>\n",
       "      <th>Year</th>\n",
       "      <th>Actor1Code</th>\n",
       "      <th>Actor1Name</th>\n",
       "      <th>Actor1CountryCode</th>\n",
       "      <th>Actor1KnownGroupCode</th>\n",
       "      <th>Actor1Type1Code</th>\n",
       "      <th>Actor2Code</th>\n",
       "      <th>...</th>\n",
       "      <th>Actor2Geo_CountryCode</th>\n",
       "      <th>Actor2Geo_ADM1Code</th>\n",
       "      <th>Actor2Geo_Lat</th>\n",
       "      <th>Actor2Geo_Long</th>\n",
       "      <th>ActionGeo_FullName</th>\n",
       "      <th>ActionGeo_CountryCode</th>\n",
       "      <th>ActionGeo_ADM1Code</th>\n",
       "      <th>ActionGeo_Lat</th>\n",
       "      <th>ActionGeo_Long</th>\n",
       "      <th>SOURCEURL</th>\n",
       "    </tr>\n",
       "  </thead>\n",
       "  <tbody>\n",
       "    <tr>\n",
       "      <th>186335</th>\n",
       "      <td>627905806</td>\n",
       "      <td>20170215</td>\n",
       "      <td>201702</td>\n",
       "      <td>2017</td>\n",
       "      <td>NaN</td>\n",
       "      <td>NaN</td>\n",
       "      <td>NaN</td>\n",
       "      <td>NaN</td>\n",
       "      <td>NaN</td>\n",
       "      <td>USA</td>\n",
       "      <td>...</td>\n",
       "      <td>US</td>\n",
       "      <td>USKY</td>\n",
       "      <td>38.4784</td>\n",
       "      <td>-82.6379</td>\n",
       "      <td>Ashland, Kentucky, United States</td>\n",
       "      <td>US</td>\n",
       "      <td>USKY</td>\n",
       "      <td>38.4784</td>\n",
       "      <td>-82.6379</td>\n",
       "      <td>http://www.dailyindependent.com/news/fallsburg...</td>\n",
       "    </tr>\n",
       "    <tr>\n",
       "      <th>1023517</th>\n",
       "      <td>693202356</td>\n",
       "      <td>20170927</td>\n",
       "      <td>201709</td>\n",
       "      <td>2017</td>\n",
       "      <td>USA</td>\n",
       "      <td>ALABAMA</td>\n",
       "      <td>USA</td>\n",
       "      <td>NaN</td>\n",
       "      <td>NaN</td>\n",
       "      <td>NaN</td>\n",
       "      <td>...</td>\n",
       "      <td>NaN</td>\n",
       "      <td>NaN</td>\n",
       "      <td>NaN</td>\n",
       "      <td>NaN</td>\n",
       "      <td>Mississippi, United States</td>\n",
       "      <td>US</td>\n",
       "      <td>USMS</td>\n",
       "      <td>32.7673</td>\n",
       "      <td>-89.6812</td>\n",
       "      <td>http://wbtw.com/ap/in-alabama-a-mcconnell-rebu...</td>\n",
       "    </tr>\n",
       "    <tr>\n",
       "      <th>756078</th>\n",
       "      <td>672194376</td>\n",
       "      <td>20170711</td>\n",
       "      <td>201707</td>\n",
       "      <td>2017</td>\n",
       "      <td>CHN</td>\n",
       "      <td>CHINESE</td>\n",
       "      <td>CHN</td>\n",
       "      <td>NaN</td>\n",
       "      <td>NaN</td>\n",
       "      <td>CRM</td>\n",
       "      <td>...</td>\n",
       "      <td>CH</td>\n",
       "      <td>CH03</td>\n",
       "      <td>28.8184</td>\n",
       "      <td>115.433</td>\n",
       "      <td>Ganzhou, Jiangxi, China</td>\n",
       "      <td>CH</td>\n",
       "      <td>CH03</td>\n",
       "      <td>28.8184</td>\n",
       "      <td>115.433</td>\n",
       "      <td>http://www.nbc-2.com/story/35856677/china-labo...</td>\n",
       "    </tr>\n",
       "    <tr>\n",
       "      <th>1749779</th>\n",
       "      <td>742797453</td>\n",
       "      <td>20180328</td>\n",
       "      <td>201803</td>\n",
       "      <td>2018</td>\n",
       "      <td>MED</td>\n",
       "      <td>SPOKESMAN</td>\n",
       "      <td>NaN</td>\n",
       "      <td>NaN</td>\n",
       "      <td>MED</td>\n",
       "      <td>NGA</td>\n",
       "      <td>...</td>\n",
       "      <td>NI</td>\n",
       "      <td>NI57</td>\n",
       "      <td>12.1628</td>\n",
       "      <td>6.66135</td>\n",
       "      <td>Anka, Zamfara, Nigeria</td>\n",
       "      <td>NI</td>\n",
       "      <td>NI57</td>\n",
       "      <td>12.1138</td>\n",
       "      <td>5.92427</td>\n",
       "      <td>http://punchng.com/gunmen-kill-three-in-zamfara/</td>\n",
       "    </tr>\n",
       "  </tbody>\n",
       "</table>\n",
       "<p>4 rows × 40 columns</p>\n",
       "</div>"
      ],
      "text/plain": [
       "        GlobalEventId   sqldate MonthYear  Year Actor1Code Actor1Name  \\\n",
       "186335      627905806  20170215    201702  2017        NaN        NaN   \n",
       "1023517     693202356  20170927    201709  2017        USA    ALABAMA   \n",
       "756078      672194376  20170711    201707  2017        CHN    CHINESE   \n",
       "1749779     742797453  20180328    201803  2018        MED  SPOKESMAN   \n",
       "\n",
       "        Actor1CountryCode Actor1KnownGroupCode Actor1Type1Code Actor2Code  \\\n",
       "186335                NaN                  NaN             NaN        USA   \n",
       "1023517               USA                  NaN             NaN        NaN   \n",
       "756078                CHN                  NaN             NaN        CRM   \n",
       "1749779               NaN                  NaN             MED        NGA   \n",
       "\n",
       "                               ...                          \\\n",
       "186335                         ...                           \n",
       "1023517                        ...                           \n",
       "756078                         ...                           \n",
       "1749779                        ...                           \n",
       "\n",
       "        Actor2Geo_CountryCode Actor2Geo_ADM1Code Actor2Geo_Lat Actor2Geo_Long  \\\n",
       "186335                     US               USKY       38.4784       -82.6379   \n",
       "1023517                   NaN                NaN           NaN            NaN   \n",
       "756078                     CH               CH03       28.8184        115.433   \n",
       "1749779                    NI               NI57       12.1628        6.66135   \n",
       "\n",
       "                       ActionGeo_FullName ActionGeo_CountryCode  \\\n",
       "186335   Ashland, Kentucky, United States                    US   \n",
       "1023517        Mississippi, United States                    US   \n",
       "756078            Ganzhou, Jiangxi, China                    CH   \n",
       "1749779            Anka, Zamfara, Nigeria                    NI   \n",
       "\n",
       "        ActionGeo_ADM1Code ActionGeo_Lat ActionGeo_Long  \\\n",
       "186335                USKY       38.4784       -82.6379   \n",
       "1023517               USMS       32.7673       -89.6812   \n",
       "756078                CH03       28.8184        115.433   \n",
       "1749779               NI57       12.1138        5.92427   \n",
       "\n",
       "                                                 SOURCEURL  \n",
       "186335   http://www.dailyindependent.com/news/fallsburg...  \n",
       "1023517  http://wbtw.com/ap/in-alabama-a-mcconnell-rebu...  \n",
       "756078   http://www.nbc-2.com/story/35856677/china-labo...  \n",
       "1749779   http://punchng.com/gunmen-kill-three-in-zamfara/  \n",
       "\n",
       "[4 rows x 40 columns]"
      ]
     },
     "execution_count": 3,
     "metadata": {},
     "output_type": "execute_result"
    }
   ],
   "source": [
    "#belakangan\n",
    "#ubah path_clean sesuai tempat clean di lokal\n",
    "path_clean = 'E:/digitalent-project/hehe/all-clean3.csv'\n",
    "#path_clean = 'E:/digitalent-project/csv/2017-clean.csv'\n",
    "data_gdelt = pd.read_csv(path_clean, delimiter = ',', encoding = \"ISO-8859-1\", names=header)\n",
    "data_gdelt.sample(4)"
   ]
  },
  {
   "cell_type": "code",
   "execution_count": 13,
   "metadata": {},
   "outputs": [],
   "source": [
    "df17 = data_gdelt[data_gdelt['Year']==2017]"
   ]
  },
  {
   "cell_type": "code",
   "execution_count": 14,
   "metadata": {},
   "outputs": [],
   "source": [
    "df18 = data_gdelt[data_gdelt['Year']==2018]"
   ]
  },
  {
   "cell_type": "code",
   "execution_count": 8,
   "metadata": {},
   "outputs": [],
   "source": [
    "txtFiles = glob.glob(\"E:/gdelt/2017/2017tar/*.txt\")"
   ]
  },
  {
   "cell_type": "code",
   "execution_count": 44,
   "metadata": {},
   "outputs": [],
   "source": [
    "txtFiles18 = glob.glob(\"E:/gdelt/2018/2018tar/*.txt\")"
   ]
  },
  {
   "cell_type": "code",
   "execution_count": 10,
   "metadata": {},
   "outputs": [],
   "source": [
    "dfTxt = pd.DataFrame(txtFiles, columns=['File'])\n",
    "dfTxt['File'] = dfTxt['File'].str.replace('E:/gdelt/2017/2017tar', '')\n",
    "dfTxt['File'] = dfTxt['File'].str.replace('\\\\', '')\n",
    "dfTxt['File'] = dfTxt['File'].str.replace('.txt', '')"
   ]
  },
  {
   "cell_type": "code",
   "execution_count": 11,
   "metadata": {},
   "outputs": [
    {
     "data": {
      "text/plain": [
       "array(['613248567', '613248634', '613248659', ..., '634419818',\n",
       "       '634419838', '634419972'], dtype=object)"
      ]
     },
     "execution_count": 11,
     "metadata": {},
     "output_type": "execute_result"
    }
   ],
   "source": [
    "dfTxt.File.values"
   ]
  },
  {
   "cell_type": "code",
   "execution_count": 45,
   "metadata": {},
   "outputs": [],
   "source": [
    "dfTxt18 = pd.DataFrame(txtFiles18, columns=['File'])\n",
    "dfTxt18['File'] = dfTxt18['File'].str.replace('E:/gdelt/2018/2018tar', '')\n",
    "dfTxt18['File'] = dfTxt18['File'].str.replace('\\\\', '')\n",
    "dfTxt18['File'] = dfTxt18['File'].str.replace('.txt', '')"
   ]
  },
  {
   "cell_type": "code",
   "execution_count": 26,
   "metadata": {},
   "outputs": [
    {
     "data": {
      "text/plain": [
       "pandas.core.series.Series"
      ]
     },
     "execution_count": 26,
     "metadata": {},
     "output_type": "execute_result"
    }
   ],
   "source": [
    "type(df17['GlobalEventId'])"
   ]
  },
  {
   "cell_type": "code",
   "execution_count": 40,
   "metadata": {},
   "outputs": [
    {
     "name": "stderr",
     "output_type": "stream",
     "text": [
      "C:\\Users\\tryviana\\Anaconda3\\lib\\site-packages\\ipykernel_launcher.py:1: SettingWithCopyWarning: \n",
      "A value is trying to be set on a copy of a slice from a DataFrame.\n",
      "Try using .loc[row_indexer,col_indexer] = value instead\n",
      "\n",
      "See the caveats in the documentation: http://pandas.pydata.org/pandas-docs/stable/indexing.html#indexing-view-versus-copy\n",
      "  \"\"\"Entry point for launching an IPython kernel.\n"
     ]
    }
   ],
   "source": [
    "df17['GlobalEventId'] = df17['GlobalEventId'].astype(str)"
   ]
  },
  {
   "cell_type": "code",
   "execution_count": 46,
   "metadata": {},
   "outputs": [
    {
     "name": "stderr",
     "output_type": "stream",
     "text": [
      "C:\\Users\\tryviana\\Anaconda3\\lib\\site-packages\\ipykernel_launcher.py:1: SettingWithCopyWarning: \n",
      "A value is trying to be set on a copy of a slice from a DataFrame.\n",
      "Try using .loc[row_indexer,col_indexer] = value instead\n",
      "\n",
      "See the caveats in the documentation: http://pandas.pydata.org/pandas-docs/stable/indexing.html#indexing-view-versus-copy\n",
      "  \"\"\"Entry point for launching an IPython kernel.\n"
     ]
    }
   ],
   "source": [
    "df18['GlobalEventId'] = df18['GlobalEventId'].astype(str)"
   ]
  },
  {
   "cell_type": "code",
   "execution_count": 41,
   "metadata": {},
   "outputs": [
    {
     "data": {
      "text/plain": [
       "dtype('O')"
      ]
     },
     "execution_count": 41,
     "metadata": {},
     "output_type": "execute_result"
    }
   ],
   "source": [
    "df17['GlobalEventId'].dtype"
   ]
  },
  {
   "cell_type": "markdown",
   "metadata": {},
   "source": [
    "# Remove lom discap"
   ]
  },
  {
   "cell_type": "code",
   "execution_count": 43,
   "metadata": {},
   "outputs": [
    {
     "data": {
      "text/plain": [
       "198480"
      ]
     },
     "execution_count": 43,
     "metadata": {},
     "output_type": "execute_result"
    }
   ],
   "source": [
    "dfClean17 = df17[df17['GlobalEventId'].isin(dfTxt.File.values)]\n",
    "len(dfClean17)"
   ]
  },
  {
   "cell_type": "code",
   "execution_count": 16,
   "metadata": {},
   "outputs": [
    {
     "data": {
      "text/html": [
       "<div>\n",
       "<style scoped>\n",
       "    .dataframe tbody tr th:only-of-type {\n",
       "        vertical-align: middle;\n",
       "    }\n",
       "\n",
       "    .dataframe tbody tr th {\n",
       "        vertical-align: top;\n",
       "    }\n",
       "\n",
       "    .dataframe thead th {\n",
       "        text-align: right;\n",
       "    }\n",
       "</style>\n",
       "<table border=\"1\" class=\"dataframe\">\n",
       "  <thead>\n",
       "    <tr style=\"text-align: right;\">\n",
       "      <th></th>\n",
       "      <th>GlobalEventId</th>\n",
       "      <th>sqldate</th>\n",
       "      <th>MonthYear</th>\n",
       "      <th>Year</th>\n",
       "      <th>Actor1Code</th>\n",
       "      <th>Actor1Name</th>\n",
       "      <th>Actor1CountryCode</th>\n",
       "      <th>Actor1KnownGroupCode</th>\n",
       "      <th>Actor1Type1Code</th>\n",
       "      <th>Actor2Code</th>\n",
       "      <th>...</th>\n",
       "      <th>Actor2Geo_CountryCode</th>\n",
       "      <th>Actor2Geo_ADM1Code</th>\n",
       "      <th>Actor2Geo_Lat</th>\n",
       "      <th>Actor2Geo_Long</th>\n",
       "      <th>ActionGeo_FullName</th>\n",
       "      <th>ActionGeo_CountryCode</th>\n",
       "      <th>ActionGeo_ADM1Code</th>\n",
       "      <th>ActionGeo_Lat</th>\n",
       "      <th>ActionGeo_Long</th>\n",
       "      <th>SOURCEURL</th>\n",
       "    </tr>\n",
       "  </thead>\n",
       "  <tbody>\n",
       "    <tr>\n",
       "      <th>16384</th>\n",
       "      <td>614692016</td>\n",
       "      <td>20170106</td>\n",
       "      <td>201701</td>\n",
       "      <td>2017</td>\n",
       "      <td>BUS</td>\n",
       "      <td>BANK</td>\n",
       "      <td>NaN</td>\n",
       "      <td>NaN</td>\n",
       "      <td>BUS</td>\n",
       "      <td>NaN</td>\n",
       "      <td>...</td>\n",
       "      <td>NaN</td>\n",
       "      <td>NaN</td>\n",
       "      <td>NaN</td>\n",
       "      <td>NaN</td>\n",
       "      <td>Israel</td>\n",
       "      <td>IS</td>\n",
       "      <td>IS</td>\n",
       "      <td>31.5</td>\n",
       "      <td>34.75</td>\n",
       "      <td>http://www.mankatofreepress.com/opinion/letter...</td>\n",
       "    </tr>\n",
       "    <tr>\n",
       "      <th>16385</th>\n",
       "      <td>614692017</td>\n",
       "      <td>20170106</td>\n",
       "      <td>201701</td>\n",
       "      <td>2017</td>\n",
       "      <td>BUS</td>\n",
       "      <td>BANK</td>\n",
       "      <td>NaN</td>\n",
       "      <td>NaN</td>\n",
       "      <td>BUS</td>\n",
       "      <td>NaN</td>\n",
       "      <td>...</td>\n",
       "      <td>NaN</td>\n",
       "      <td>NaN</td>\n",
       "      <td>NaN</td>\n",
       "      <td>NaN</td>\n",
       "      <td>Mexico</td>\n",
       "      <td>MX</td>\n",
       "      <td>MX</td>\n",
       "      <td>23</td>\n",
       "      <td>-102</td>\n",
       "      <td>http://www.mankatofreepress.com/opinion/letter...</td>\n",
       "    </tr>\n",
       "    <tr>\n",
       "      <th>16386</th>\n",
       "      <td>614692018</td>\n",
       "      <td>20170106</td>\n",
       "      <td>201701</td>\n",
       "      <td>2017</td>\n",
       "      <td>BUS</td>\n",
       "      <td>BANK</td>\n",
       "      <td>NaN</td>\n",
       "      <td>NaN</td>\n",
       "      <td>BUS</td>\n",
       "      <td>NaN</td>\n",
       "      <td>...</td>\n",
       "      <td>NaN</td>\n",
       "      <td>NaN</td>\n",
       "      <td>NaN</td>\n",
       "      <td>NaN</td>\n",
       "      <td>Panama</td>\n",
       "      <td>PM</td>\n",
       "      <td>PM</td>\n",
       "      <td>9</td>\n",
       "      <td>-80</td>\n",
       "      <td>http://www.mankatofreepress.com/opinion/letter...</td>\n",
       "    </tr>\n",
       "  </tbody>\n",
       "</table>\n",
       "<p>3 rows × 40 columns</p>\n",
       "</div>"
      ],
      "text/plain": [
       "      GlobalEventId   sqldate MonthYear  Year Actor1Code Actor1Name  \\\n",
       "16384     614692016  20170106    201701  2017        BUS       BANK   \n",
       "16385     614692017  20170106    201701  2017        BUS       BANK   \n",
       "16386     614692018  20170106    201701  2017        BUS       BANK   \n",
       "\n",
       "      Actor1CountryCode Actor1KnownGroupCode Actor1Type1Code Actor2Code  \\\n",
       "16384               NaN                  NaN             BUS        NaN   \n",
       "16385               NaN                  NaN             BUS        NaN   \n",
       "16386               NaN                  NaN             BUS        NaN   \n",
       "\n",
       "                             ...                          \\\n",
       "16384                        ...                           \n",
       "16385                        ...                           \n",
       "16386                        ...                           \n",
       "\n",
       "      Actor2Geo_CountryCode Actor2Geo_ADM1Code Actor2Geo_Lat Actor2Geo_Long  \\\n",
       "16384                   NaN                NaN           NaN            NaN   \n",
       "16385                   NaN                NaN           NaN            NaN   \n",
       "16386                   NaN                NaN           NaN            NaN   \n",
       "\n",
       "      ActionGeo_FullName ActionGeo_CountryCode ActionGeo_ADM1Code  \\\n",
       "16384             Israel                    IS                 IS   \n",
       "16385             Mexico                    MX                 MX   \n",
       "16386             Panama                    PM                 PM   \n",
       "\n",
       "      ActionGeo_Lat ActionGeo_Long  \\\n",
       "16384          31.5          34.75   \n",
       "16385            23           -102   \n",
       "16386             9            -80   \n",
       "\n",
       "                                               SOURCEURL  \n",
       "16384  http://www.mankatofreepress.com/opinion/letter...  \n",
       "16385  http://www.mankatofreepress.com/opinion/letter...  \n",
       "16386  http://www.mankatofreepress.com/opinion/letter...  \n",
       "\n",
       "[3 rows x 40 columns]"
      ]
     },
     "execution_count": 16,
     "metadata": {},
     "output_type": "execute_result"
    }
   ],
   "source": [
    "df17.head(3)"
   ]
  },
  {
   "cell_type": "code",
   "execution_count": 48,
   "metadata": {},
   "outputs": [
    {
     "data": {
      "text/plain": [
       "1577"
      ]
     },
     "execution_count": 48,
     "metadata": {},
     "output_type": "execute_result"
    }
   ],
   "source": [
    "dfClean18 = df18[df18['GlobalEventId'].isin(dfTxt18.File.values)]\n",
    "len(dfClean18)"
   ]
  },
  {
   "cell_type": "code",
   "execution_count": 49,
   "metadata": {},
   "outputs": [],
   "source": [
    "dfRandom17 = dfClean17.sample(1500)"
   ]
  },
  {
   "cell_type": "code",
   "execution_count": 57,
   "metadata": {},
   "outputs": [],
   "source": [
    "dfRandom17.to_csv(\"dfRandom17.csv\", index=False, mode='w')"
   ]
  },
  {
   "cell_type": "code",
   "execution_count": 50,
   "metadata": {},
   "outputs": [],
   "source": [
    "dfRandom18 = dfClean18.sample(1500)"
   ]
  },
  {
   "cell_type": "code",
   "execution_count": 58,
   "metadata": {},
   "outputs": [],
   "source": [
    "dfRandom18.to_csv(\"dfRandom18.csv\", index=False, mode='w')"
   ]
  },
  {
   "cell_type": "code",
   "execution_count": 83,
   "metadata": {},
   "outputs": [
    {
     "data": {
      "text/html": [
       "<div>\n",
       "<style scoped>\n",
       "    .dataframe tbody tr th:only-of-type {\n",
       "        vertical-align: middle;\n",
       "    }\n",
       "\n",
       "    .dataframe tbody tr th {\n",
       "        vertical-align: top;\n",
       "    }\n",
       "\n",
       "    .dataframe thead th {\n",
       "        text-align: right;\n",
       "    }\n",
       "</style>\n",
       "<table border=\"1\" class=\"dataframe\">\n",
       "  <thead>\n",
       "    <tr style=\"text-align: right;\">\n",
       "      <th></th>\n",
       "      <th>GlobalEventId</th>\n",
       "      <th>sqldate</th>\n",
       "      <th>MonthYear</th>\n",
       "      <th>Year</th>\n",
       "      <th>Actor1Code</th>\n",
       "      <th>Actor1Name</th>\n",
       "      <th>Actor1CountryCode</th>\n",
       "      <th>Actor1KnownGroupCode</th>\n",
       "      <th>Actor1Type1Code</th>\n",
       "      <th>Actor2Code</th>\n",
       "      <th>...</th>\n",
       "      <th>Actor2Geo_CountryCode</th>\n",
       "      <th>Actor2Geo_ADM1Code</th>\n",
       "      <th>Actor2Geo_Lat</th>\n",
       "      <th>Actor2Geo_Long</th>\n",
       "      <th>ActionGeo_FullName</th>\n",
       "      <th>ActionGeo_CountryCode</th>\n",
       "      <th>ActionGeo_ADM1Code</th>\n",
       "      <th>ActionGeo_Lat</th>\n",
       "      <th>ActionGeo_Long</th>\n",
       "      <th>SOURCEURL</th>\n",
       "    </tr>\n",
       "  </thead>\n",
       "  <tbody>\n",
       "    <tr>\n",
       "      <th>107222</th>\n",
       "      <td>622030006</td>\n",
       "      <td>20170130</td>\n",
       "      <td>201701</td>\n",
       "      <td>2017</td>\n",
       "      <td>GOV</td>\n",
       "      <td>PRESIDENT</td>\n",
       "      <td>NaN</td>\n",
       "      <td>NaN</td>\n",
       "      <td>GOV</td>\n",
       "      <td>BWA</td>\n",
       "      <td>...</td>\n",
       "      <td>BC</td>\n",
       "      <td>BC00</td>\n",
       "      <td>-20.05</td>\n",
       "      <td>24.9833</td>\n",
       "      <td>Khama, Botswana (general), Botswana</td>\n",
       "      <td>BC</td>\n",
       "      <td>BC00</td>\n",
       "      <td>-20.05</td>\n",
       "      <td>24.9833</td>\n",
       "      <td>http://www.sundaystandard.info/lieutenant-gene...</td>\n",
       "    </tr>\n",
       "    <tr>\n",
       "      <th>158223</th>\n",
       "      <td>625781321</td>\n",
       "      <td>20170209</td>\n",
       "      <td>201702</td>\n",
       "      <td>2017</td>\n",
       "      <td>USA</td>\n",
       "      <td>UNITED STATES</td>\n",
       "      <td>USA</td>\n",
       "      <td>NaN</td>\n",
       "      <td>NaN</td>\n",
       "      <td>JUD</td>\n",
       "      <td>...</td>\n",
       "      <td>US</td>\n",
       "      <td>USMA</td>\n",
       "      <td>42.2373</td>\n",
       "      <td>-71.5314</td>\n",
       "      <td>Massachusetts, United States</td>\n",
       "      <td>US</td>\n",
       "      <td>USMA</td>\n",
       "      <td>42.2373</td>\n",
       "      <td>-71.5314</td>\n",
       "      <td>http://www.cleveland.com/politics/index.ssf/20...</td>\n",
       "    </tr>\n",
       "  </tbody>\n",
       "</table>\n",
       "<p>2 rows × 40 columns</p>\n",
       "</div>"
      ],
      "text/plain": [
       "       GlobalEventId   sqldate MonthYear  Year Actor1Code     Actor1Name  \\\n",
       "107222     622030006  20170130    201701  2017        GOV      PRESIDENT   \n",
       "158223     625781321  20170209    201702  2017        USA  UNITED STATES   \n",
       "\n",
       "       Actor1CountryCode Actor1KnownGroupCode Actor1Type1Code Actor2Code  \\\n",
       "107222               NaN                  NaN             GOV        BWA   \n",
       "158223               USA                  NaN             NaN        JUD   \n",
       "\n",
       "                              ...                          \\\n",
       "107222                        ...                           \n",
       "158223                        ...                           \n",
       "\n",
       "       Actor2Geo_CountryCode Actor2Geo_ADM1Code Actor2Geo_Lat Actor2Geo_Long  \\\n",
       "107222                    BC               BC00        -20.05        24.9833   \n",
       "158223                    US               USMA       42.2373       -71.5314   \n",
       "\n",
       "                         ActionGeo_FullName ActionGeo_CountryCode  \\\n",
       "107222  Khama, Botswana (general), Botswana                    BC   \n",
       "158223         Massachusetts, United States                    US   \n",
       "\n",
       "       ActionGeo_ADM1Code ActionGeo_Lat ActionGeo_Long  \\\n",
       "107222               BC00        -20.05        24.9833   \n",
       "158223               USMA       42.2373       -71.5314   \n",
       "\n",
       "                                                SOURCEURL  \n",
       "107222  http://www.sundaystandard.info/lieutenant-gene...  \n",
       "158223  http://www.cleveland.com/politics/index.ssf/20...  \n",
       "\n",
       "[2 rows x 40 columns]"
      ]
     },
     "execution_count": 83,
     "metadata": {},
     "output_type": "execute_result"
    }
   ],
   "source": [
    "dfr17 = dfRandom17.iloc[:2,:]\n",
    "dfr17"
   ]
  },
  {
   "cell_type": "code",
   "execution_count": 64,
   "metadata": {},
   "outputs": [],
   "source": [
    "ps = nltk.stem.PorterStemmer()\n",
    "stop_words = set(stopwords.words('english'))"
   ]
  },
  {
   "cell_type": "code",
   "execution_count": 105,
   "metadata": {},
   "outputs": [
    {
     "name": "stdout",
     "output_type": "stream",
     "text": [
      "100/1500\n",
      "200/1500\n",
      "300/1500\n",
      "400/1500\n",
      "500/1500\n",
      "600/1500\n",
      "700/1500\n",
      "800/1500\n",
      "900/1500\n",
      "1000/1500\n",
      "1100/1500\n",
      "1200/1500\n",
      "1300/1500\n",
      "1400/1500\n",
      "1500/1500\n"
     ]
    }
   ],
   "source": [
    "totalCorpus = len(dfRandom18)\n",
    "processLine = 0\n",
    "for index, row in dfRandom18.iterrows():\n",
    "    filename = (\"E:/gdelt/2018/2018tar/\" + str(row['GlobalEventId']) + \".txt\").replace('.0', '')\n",
    "    GlobalEventId = (str(row['GlobalEventId'])).replace('.0', '')\n",
    "    file = open(filename, \"r\", encoding=\"utf8\") \n",
    "    \n",
    "    txt = file.read()\n",
    "    \n",
    "    #lowercase\n",
    "    txt = txt.lower()\n",
    "    \n",
    "    #change nonword to space   \n",
    "    txt_clean = re.sub(r'[^a-zA-Z]', ' ', txt)\n",
    "    \n",
    "    #TOKENISASI , STEM, HAPUS PROPERNOUN, DAN HAPUS STOPWORD\n",
    "    tagged_sentence = nltk.pos_tag(txt_clean.split())\n",
    "    \n",
    "    filtered_sentence=[]\n",
    "    for initword, tag in tagged_sentence:\n",
    "        word = ps.stem(initword)\n",
    "        if len(word)>2 and (word not in stop_words) and tag != 'NNP' and tag != 'NNPS':\n",
    "            filtered_sentence.append(word)\n",
    "    res = ' '.join(filtered_sentence)       \n",
    "    #print(res)\n",
    "    #dfRandom18.loc[dfRandom18.GlobalEventId == int(GlobalEventId), 'text'] = str(res)\n",
    "    row['text'] = str(res)\n",
    "    \n",
    "    processLine+=1\n",
    "    if processLine % 100 == 0:\n",
    "        print(str(processLine) + \"/\" + str(totalCorpus))\n"
   ]
  },
  {
   "cell_type": "code",
   "execution_count": 106,
   "metadata": {},
   "outputs": [
    {
     "data": {
      "text/plain": [
       "1393392    peru kuczynski pardon fujimori save skinalexia...\n",
       "1393403    armi hand demolit order target home detaine ne...\n",
       "1393814    azerbaijan accus armenia shell nine villag jan...\n",
       "1392965    najib say forex rci respons kit siang calla pr...\n",
       "1393313    two peopl kill iran protest southwest know whe...\n",
       "Name: text, dtype: object"
      ]
     },
     "execution_count": 106,
     "metadata": {},
     "output_type": "execute_result"
    }
   ],
   "source": [
    "dfRandom18.head()['text']"
   ]
  },
  {
   "cell_type": "code",
   "execution_count": 108,
   "metadata": {},
   "outputs": [],
   "source": [
    "dfRandom18.to_csv(\"dfRandom18text.csv\", index=False, mode='w')"
   ]
  },
  {
   "cell_type": "code",
   "execution_count": 79,
   "metadata": {},
   "outputs": [
    {
     "data": {
      "text/html": [
       "<div>\n",
       "<style scoped>\n",
       "    .dataframe tbody tr th:only-of-type {\n",
       "        vertical-align: middle;\n",
       "    }\n",
       "\n",
       "    .dataframe tbody tr th {\n",
       "        vertical-align: top;\n",
       "    }\n",
       "\n",
       "    .dataframe thead th {\n",
       "        text-align: right;\n",
       "    }\n",
       "</style>\n",
       "<table border=\"1\" class=\"dataframe\">\n",
       "  <thead>\n",
       "    <tr style=\"text-align: right;\">\n",
       "      <th></th>\n",
       "      <th>GlobalEventId</th>\n",
       "      <th>sqldate</th>\n",
       "      <th>MonthYear</th>\n",
       "      <th>Year</th>\n",
       "      <th>Actor1Code</th>\n",
       "      <th>Actor1Name</th>\n",
       "      <th>Actor1CountryCode</th>\n",
       "      <th>Actor1KnownGroupCode</th>\n",
       "      <th>Actor1Type1Code</th>\n",
       "      <th>Actor2Code</th>\n",
       "      <th>...</th>\n",
       "      <th>Actor2Geo_CountryCode</th>\n",
       "      <th>Actor2Geo_ADM1Code</th>\n",
       "      <th>Actor2Geo_Lat</th>\n",
       "      <th>Actor2Geo_Long</th>\n",
       "      <th>ActionGeo_FullName</th>\n",
       "      <th>ActionGeo_CountryCode</th>\n",
       "      <th>ActionGeo_ADM1Code</th>\n",
       "      <th>ActionGeo_Lat</th>\n",
       "      <th>ActionGeo_Long</th>\n",
       "      <th>SOURCEURL</th>\n",
       "    </tr>\n",
       "  </thead>\n",
       "  <tbody>\n",
       "    <tr>\n",
       "      <th>107222</th>\n",
       "      <td>622030006</td>\n",
       "      <td>20170130</td>\n",
       "      <td>201701</td>\n",
       "      <td>2017</td>\n",
       "      <td>GOV</td>\n",
       "      <td>PRESIDENT</td>\n",
       "      <td>NaN</td>\n",
       "      <td>NaN</td>\n",
       "      <td>GOV</td>\n",
       "      <td>BWA</td>\n",
       "      <td>...</td>\n",
       "      <td>BC</td>\n",
       "      <td>BC00</td>\n",
       "      <td>-20.05</td>\n",
       "      <td>24.9833</td>\n",
       "      <td>Khama, Botswana (general), Botswana</td>\n",
       "      <td>BC</td>\n",
       "      <td>BC00</td>\n",
       "      <td>-20.05</td>\n",
       "      <td>24.9833</td>\n",
       "      <td>http://www.sundaystandard.info/lieutenant-gene...</td>\n",
       "    </tr>\n",
       "    <tr>\n",
       "      <th>158223</th>\n",
       "      <td>625781321</td>\n",
       "      <td>20170209</td>\n",
       "      <td>201702</td>\n",
       "      <td>2017</td>\n",
       "      <td>USA</td>\n",
       "      <td>UNITED STATES</td>\n",
       "      <td>USA</td>\n",
       "      <td>NaN</td>\n",
       "      <td>NaN</td>\n",
       "      <td>JUD</td>\n",
       "      <td>...</td>\n",
       "      <td>US</td>\n",
       "      <td>USMA</td>\n",
       "      <td>42.2373</td>\n",
       "      <td>-71.5314</td>\n",
       "      <td>Massachusetts, United States</td>\n",
       "      <td>US</td>\n",
       "      <td>USMA</td>\n",
       "      <td>42.2373</td>\n",
       "      <td>-71.5314</td>\n",
       "      <td>http://www.cleveland.com/politics/index.ssf/20...</td>\n",
       "    </tr>\n",
       "    <tr>\n",
       "      <th>198182</th>\n",
       "      <td>628709639</td>\n",
       "      <td>20170217</td>\n",
       "      <td>201702</td>\n",
       "      <td>2017</td>\n",
       "      <td>NaN</td>\n",
       "      <td>NaN</td>\n",
       "      <td>NaN</td>\n",
       "      <td>NaN</td>\n",
       "      <td>NaN</td>\n",
       "      <td>BDI</td>\n",
       "      <td>...</td>\n",
       "      <td>BY</td>\n",
       "      <td>BY00</td>\n",
       "      <td>-3.37611</td>\n",
       "      <td>29.36</td>\n",
       "      <td>Bujumbura, Burundi (general), Burundi</td>\n",
       "      <td>BY</td>\n",
       "      <td>BY00</td>\n",
       "      <td>-3.37611</td>\n",
       "      <td>29.36</td>\n",
       "      <td>https://www.yahoo.com/news/burundi-seeks-arres...</td>\n",
       "    </tr>\n",
       "  </tbody>\n",
       "</table>\n",
       "<p>3 rows × 40 columns</p>\n",
       "</div>"
      ],
      "text/plain": [
       "       GlobalEventId   sqldate MonthYear  Year Actor1Code     Actor1Name  \\\n",
       "107222     622030006  20170130    201701  2017        GOV      PRESIDENT   \n",
       "158223     625781321  20170209    201702  2017        USA  UNITED STATES   \n",
       "198182     628709639  20170217    201702  2017        NaN            NaN   \n",
       "\n",
       "       Actor1CountryCode Actor1KnownGroupCode Actor1Type1Code Actor2Code  \\\n",
       "107222               NaN                  NaN             GOV        BWA   \n",
       "158223               USA                  NaN             NaN        JUD   \n",
       "198182               NaN                  NaN             NaN        BDI   \n",
       "\n",
       "                              ...                          \\\n",
       "107222                        ...                           \n",
       "158223                        ...                           \n",
       "198182                        ...                           \n",
       "\n",
       "       Actor2Geo_CountryCode Actor2Geo_ADM1Code Actor2Geo_Lat Actor2Geo_Long  \\\n",
       "107222                    BC               BC00        -20.05        24.9833   \n",
       "158223                    US               USMA       42.2373       -71.5314   \n",
       "198182                    BY               BY00      -3.37611          29.36   \n",
       "\n",
       "                           ActionGeo_FullName ActionGeo_CountryCode  \\\n",
       "107222    Khama, Botswana (general), Botswana                    BC   \n",
       "158223           Massachusetts, United States                    US   \n",
       "198182  Bujumbura, Burundi (general), Burundi                    BY   \n",
       "\n",
       "       ActionGeo_ADM1Code ActionGeo_Lat ActionGeo_Long  \\\n",
       "107222               BC00        -20.05        24.9833   \n",
       "158223               USMA       42.2373       -71.5314   \n",
       "198182               BY00      -3.37611          29.36   \n",
       "\n",
       "                                                SOURCEURL  \n",
       "107222  http://www.sundaystandard.info/lieutenant-gene...  \n",
       "158223  http://www.cleveland.com/politics/index.ssf/20...  \n",
       "198182  https://www.yahoo.com/news/burundi-seeks-arres...  \n",
       "\n",
       "[3 rows x 40 columns]"
      ]
     },
     "execution_count": 79,
     "metadata": {},
     "output_type": "execute_result"
    }
   ],
   "source": [
    "dfRandom17.head(3)"
   ]
  },
  {
   "cell_type": "code",
   "execution_count": 80,
   "metadata": {},
   "outputs": [
    {
     "data": {
      "text/html": [
       "<div>\n",
       "<style scoped>\n",
       "    .dataframe tbody tr th:only-of-type {\n",
       "        vertical-align: middle;\n",
       "    }\n",
       "\n",
       "    .dataframe tbody tr th {\n",
       "        vertical-align: top;\n",
       "    }\n",
       "\n",
       "    .dataframe thead th {\n",
       "        text-align: right;\n",
       "    }\n",
       "</style>\n",
       "<table border=\"1\" class=\"dataframe\">\n",
       "  <thead>\n",
       "    <tr style=\"text-align: right;\">\n",
       "      <th></th>\n",
       "      <th>GlobalEventId</th>\n",
       "      <th>sqldate</th>\n",
       "      <th>MonthYear</th>\n",
       "      <th>Year</th>\n",
       "      <th>Actor1Code</th>\n",
       "      <th>Actor1Name</th>\n",
       "      <th>Actor1CountryCode</th>\n",
       "      <th>Actor1KnownGroupCode</th>\n",
       "      <th>Actor1Type1Code</th>\n",
       "      <th>Actor2Code</th>\n",
       "      <th>...</th>\n",
       "      <th>Actor2Geo_CountryCode</th>\n",
       "      <th>Actor2Geo_ADM1Code</th>\n",
       "      <th>Actor2Geo_Lat</th>\n",
       "      <th>Actor2Geo_Long</th>\n",
       "      <th>ActionGeo_FullName</th>\n",
       "      <th>ActionGeo_CountryCode</th>\n",
       "      <th>ActionGeo_ADM1Code</th>\n",
       "      <th>ActionGeo_Lat</th>\n",
       "      <th>ActionGeo_Long</th>\n",
       "      <th>SOURCEURL</th>\n",
       "    </tr>\n",
       "  </thead>\n",
       "  <tbody>\n",
       "    <tr>\n",
       "      <th>1393392</th>\n",
       "      <td>719103658</td>\n",
       "      <td>20180101</td>\n",
       "      <td>201801</td>\n",
       "      <td>2018</td>\n",
       "      <td>MIL</td>\n",
       "      <td>MILITARY GROUP</td>\n",
       "      <td>NaN</td>\n",
       "      <td>NaN</td>\n",
       "      <td>MIL</td>\n",
       "      <td>PER</td>\n",
       "      <td>...</td>\n",
       "      <td>PE</td>\n",
       "      <td>PE13</td>\n",
       "      <td>-7.1075</td>\n",
       "      <td>-79.5889</td>\n",
       "      <td>Alberto Fujimori, Region de La Libertad, Peru</td>\n",
       "      <td>PE</td>\n",
       "      <td>PE13</td>\n",
       "      <td>-7.1075</td>\n",
       "      <td>-79.5889</td>\n",
       "      <td>https://intpolicydigest.org/2018/01/01/peru-s-...</td>\n",
       "    </tr>\n",
       "    <tr>\n",
       "      <th>1393403</th>\n",
       "      <td>719104853</td>\n",
       "      <td>20180101</td>\n",
       "      <td>201801</td>\n",
       "      <td>2018</td>\n",
       "      <td>NaN</td>\n",
       "      <td>NaN</td>\n",
       "      <td>NaN</td>\n",
       "      <td>NaN</td>\n",
       "      <td>NaN</td>\n",
       "      <td>ISR</td>\n",
       "      <td>...</td>\n",
       "      <td>IS</td>\n",
       "      <td>IS</td>\n",
       "      <td>31.5</td>\n",
       "      <td>34.75</td>\n",
       "      <td>Industrial Zone, West Bank (general), West Bank</td>\n",
       "      <td>WE</td>\n",
       "      <td>WE00</td>\n",
       "      <td>31.5063</td>\n",
       "      <td>35.1011</td>\n",
       "      <td>http://imemc.org/article/israeli-soldiers-hand...</td>\n",
       "    </tr>\n",
       "    <tr>\n",
       "      <th>1393814</th>\n",
       "      <td>719134319</td>\n",
       "      <td>20180101</td>\n",
       "      <td>201801</td>\n",
       "      <td>2018</td>\n",
       "      <td>AZE</td>\n",
       "      <td>AZERBAIJAN</td>\n",
       "      <td>AZE</td>\n",
       "      <td>NaN</td>\n",
       "      <td>NaN</td>\n",
       "      <td>ARM</td>\n",
       "      <td>...</td>\n",
       "      <td>AJ</td>\n",
       "      <td>AJ40</td>\n",
       "      <td>41.2097</td>\n",
       "      <td>45.0799</td>\n",
       "      <td>Kemerli, Qazax, Azerbaijan</td>\n",
       "      <td>AJ</td>\n",
       "      <td>AJ40</td>\n",
       "      <td>41.2097</td>\n",
       "      <td>45.0799</td>\n",
       "      <td>http://www.eng.kavkaz-uzel.eu/articles/41949/</td>\n",
       "    </tr>\n",
       "  </tbody>\n",
       "</table>\n",
       "<p>3 rows × 40 columns</p>\n",
       "</div>"
      ],
      "text/plain": [
       "        GlobalEventId   sqldate MonthYear  Year Actor1Code      Actor1Name  \\\n",
       "1393392     719103658  20180101    201801  2018        MIL  MILITARY GROUP   \n",
       "1393403     719104853  20180101    201801  2018        NaN             NaN   \n",
       "1393814     719134319  20180101    201801  2018        AZE      AZERBAIJAN   \n",
       "\n",
       "        Actor1CountryCode Actor1KnownGroupCode Actor1Type1Code Actor2Code  \\\n",
       "1393392               NaN                  NaN             MIL        PER   \n",
       "1393403               NaN                  NaN             NaN        ISR   \n",
       "1393814               AZE                  NaN             NaN        ARM   \n",
       "\n",
       "                               ...                          \\\n",
       "1393392                        ...                           \n",
       "1393403                        ...                           \n",
       "1393814                        ...                           \n",
       "\n",
       "        Actor2Geo_CountryCode Actor2Geo_ADM1Code Actor2Geo_Lat Actor2Geo_Long  \\\n",
       "1393392                    PE               PE13       -7.1075       -79.5889   \n",
       "1393403                    IS                 IS          31.5          34.75   \n",
       "1393814                    AJ               AJ40       41.2097        45.0799   \n",
       "\n",
       "                                      ActionGeo_FullName  \\\n",
       "1393392    Alberto Fujimori, Region de La Libertad, Peru   \n",
       "1393403  Industrial Zone, West Bank (general), West Bank   \n",
       "1393814                       Kemerli, Qazax, Azerbaijan   \n",
       "\n",
       "        ActionGeo_CountryCode ActionGeo_ADM1Code ActionGeo_Lat ActionGeo_Long  \\\n",
       "1393392                    PE               PE13       -7.1075       -79.5889   \n",
       "1393403                    WE               WE00       31.5063        35.1011   \n",
       "1393814                    AJ               AJ40       41.2097        45.0799   \n",
       "\n",
       "                                                 SOURCEURL  \n",
       "1393392  https://intpolicydigest.org/2018/01/01/peru-s-...  \n",
       "1393403  http://imemc.org/article/israeli-soldiers-hand...  \n",
       "1393814      http://www.eng.kavkaz-uzel.eu/articles/41949/  \n",
       "\n",
       "[3 rows x 40 columns]"
      ]
     },
     "execution_count": 80,
     "metadata": {},
     "output_type": "execute_result"
    }
   ],
   "source": [
    "dfRandom18.head(3)"
   ]
  },
  {
   "cell_type": "code",
   "execution_count": 109,
   "metadata": {},
   "outputs": [],
   "source": [
    "dfText2017 = dfRandom17['text']"
   ]
  },
  {
   "cell_type": "code",
   "execution_count": 118,
   "metadata": {},
   "outputs": [],
   "source": [
    "dfText2018 = dfRandom18['text']"
   ]
  },
  {
   "cell_type": "code",
   "execution_count": 121,
   "metadata": {},
   "outputs": [
    {
     "data": {
      "text/plain": [
       "3000"
      ]
     },
     "execution_count": 121,
     "metadata": {},
     "output_type": "execute_result"
    }
   ],
   "source": [
    "dfText = dfText2017.append([dfText2018])\n",
    "len(dfText)"
   ]
  },
  {
   "cell_type": "code",
   "execution_count": 154,
   "metadata": {},
   "outputs": [],
   "source": [
    "dfRandom = dfRandom17.append(dfRandom18)"
   ]
  },
  {
   "cell_type": "code",
   "execution_count": 111,
   "metadata": {},
   "outputs": [],
   "source": [
    "from sklearn.feature_extraction.text import TfidfVectorizer"
   ]
  },
  {
   "cell_type": "code",
   "execution_count": 122,
   "metadata": {},
   "outputs": [],
   "source": [
    "vectorizer = TfidfVectorizer()\n",
    "X = vectorizer.fit_transform(dfText)"
   ]
  },
  {
   "cell_type": "code",
   "execution_count": 138,
   "metadata": {},
   "outputs": [
    {
     "data": {
      "text/plain": [
       "(3000, 32174)"
      ]
     },
     "execution_count": 138,
     "metadata": {},
     "output_type": "execute_result"
    }
   ],
   "source": [
    "X.shape"
   ]
  },
  {
   "cell_type": "code",
   "execution_count": 142,
   "metadata": {},
   "outputs": [
    {
     "data": {
      "text/plain": [
       "scipy.sparse.csr.csr_matrix"
      ]
     },
     "execution_count": 142,
     "metadata": {},
     "output_type": "execute_result"
    }
   ],
   "source": [
    "type(X)"
   ]
  },
  {
   "cell_type": "code",
   "execution_count": 146,
   "metadata": {},
   "outputs": [],
   "source": [
    "pd.DataFrame(list(X.toarray())).to_csv(\"TFIDF.csv\", index=False, mode='w')"
   ]
  },
  {
   "cell_type": "code",
   "execution_count": 123,
   "metadata": {},
   "outputs": [],
   "source": [
    "# sort vocabulary by value (for header)\n",
    "header = sorted(vectorizer.vocabulary_.items(), key=operator.itemgetter(1))"
   ]
  },
  {
   "cell_type": "code",
   "execution_count": 124,
   "metadata": {},
   "outputs": [
    {
     "data": {
      "text/plain": [
       "32174"
      ]
     },
     "execution_count": 124,
     "metadata": {},
     "output_type": "execute_result"
    }
   ],
   "source": [
    "len(header)"
   ]
  },
  {
   "cell_type": "code",
   "execution_count": 125,
   "metadata": {},
   "outputs": [
    {
     "data": {
      "text/plain": [
       "KMeans(algorithm='auto', copy_x=True, init='k-means++', max_iter=300,\n",
       "    n_clusters=10, n_init=10, n_jobs=1, precompute_distances='auto',\n",
       "    random_state=None, tol=0.0001, verbose=0)"
      ]
     },
     "execution_count": 125,
     "metadata": {},
     "output_type": "execute_result"
    }
   ],
   "source": [
    "clf10 = KMeans(n_clusters=10, verbose = 0)\n",
    "clf10.fit(X)"
   ]
  },
  {
   "cell_type": "code",
   "execution_count": 147,
   "metadata": {},
   "outputs": [],
   "source": [
    "header_tfidf=[]\n",
    "for k,v in header:\n",
    "    header_tfidf.append(k)"
   ]
  },
  {
   "cell_type": "code",
   "execution_count": 149,
   "metadata": {},
   "outputs": [],
   "source": [
    "pd.DataFrame(header_tfidf).to_csv(\"header.csv\", index=False, mode='w')"
   ]
  },
  {
   "cell_type": "code",
   "execution_count": 152,
   "metadata": {},
   "outputs": [],
   "source": [
    "with open('header.csv', 'w') as f:\n",
    "    for item in header_tfidf:\n",
    "        f.write(\"%s,\" % item)"
   ]
  },
  {
   "cell_type": "code",
   "execution_count": 153,
   "metadata": {},
   "outputs": [],
   "source": [
    "f.close()"
   ]
  },
  {
   "cell_type": "code",
   "execution_count": 155,
   "metadata": {},
   "outputs": [],
   "source": [
    "dfRandom['labels'] = clf10.labels_"
   ]
  },
  {
   "cell_type": "code",
   "execution_count": 157,
   "metadata": {},
   "outputs": [
    {
     "data": {
      "text/plain": [
       "Text(0,0.5,'Frekuensi')"
      ]
     },
     "execution_count": 157,
     "metadata": {},
     "output_type": "execute_result"
    },
    {
     "data": {
      "image/png": "[encoded data removed]",
      "text/plain": [
       "<Figure size 432x288 with 1 Axes>"
      ]
     },
     "metadata": {
      "needs_background": "light"
     },
     "output_type": "display_data"
    }
   ],
   "source": [
    "ax = dfRandom.groupby('labels')['labels'].count()\n",
    "ax = ax.plot(kind='bar', title =\"Frekuensi data tiap Klaster\", fontsize=12)\n",
    "ax.set_xlabel(\"Cluster\", fontsize=12)\n",
    "ax.set_ylabel(\"Frekuensi\", fontsize=12)"
   ]
  },
  {
   "cell_type": "code",
   "execution_count": 160,
   "metadata": {},
   "outputs": [],
   "source": [
    "pca = TruncatedSVD(n_components=100)\n",
    "vec_matrix_pca = pca.fit_transform(X)"
   ]
  },
  {
   "cell_type": "code",
   "execution_count": 161,
   "metadata": {},
   "outputs": [
    {
     "data": {
      "text/plain": [
       "KMeans(algorithm='auto', copy_x=True, init='k-means++', max_iter=300,\n",
       "    n_clusters=10, n_init=10, n_jobs=1, precompute_distances='auto',\n",
       "    random_state=None, tol=0.0001, verbose=0)"
      ]
     },
     "execution_count": 161,
     "metadata": {},
     "output_type": "execute_result"
    }
   ],
   "source": [
    "clf101 = KMeans(n_clusters=10, verbose = 0)\n",
    "clf101.fit(vec_matrix_pca)"
   ]
  },
  {
   "cell_type": "code",
   "execution_count": 162,
   "metadata": {},
   "outputs": [],
   "source": [
    "dfTemp = dfRandom"
   ]
  },
  {
   "cell_type": "code",
   "execution_count": 163,
   "metadata": {},
   "outputs": [],
   "source": [
    "dfRandom['labels'] = clf101.labels_"
   ]
  },
  {
   "cell_type": "code",
   "execution_count": 166,
   "metadata": {},
   "outputs": [
    {
     "data": {
      "text/plain": [
       "Text(0,0.5,'Frekuensi')"
      ]
     },
     "execution_count": 166,
     "metadata": {},
     "output_type": "execute_result"
    },
    {
     "data": {
      "image/png": "[encoded data removed]",
      "text/plain": [
       "<Figure size 432x288 with 1 Axes>"
      ]
     },
     "metadata": {
      "needs_background": "light"
     },
     "output_type": "display_data"
    }
   ],
   "source": [
    "ax = dfRandom.groupby('labels')['labels'].count()\n",
    "ax = ax.plot(kind='bar', title =\"Frekuensi data tiap Klaster\", fontsize=12)\n",
    "ax.set_xlabel(\"Klaster\", fontsize=12)\n",
    "ax.set_ylabel(\"Frekuensi\", fontsize=12)"
   ]
  },
  {
   "cell_type": "code",
   "execution_count": 167,
   "metadata": {},
   "outputs": [
    {
     "data": {
      "text/plain": [
       "630.9579821894471"
      ]
     },
     "execution_count": 167,
     "metadata": {},
     "output_type": "execute_result"
    }
   ],
   "source": [
    "clf101.inertia_"
   ]
  },
  {
   "cell_type": "code",
   "execution_count": 168,
   "metadata": {},
   "outputs": [],
   "source": [
    "centers = np.array(clf101.cluster_centers_)"
   ]
  },
  {
   "cell_type": "code",
   "execution_count": 172,
   "metadata": {},
   "outputs": [
    {
     "ename": "AttributeError",
     "evalue": "'list' object has no attribute 'shape'",
     "output_type": "error",
     "traceback": [
      "\u001b[1;31m---------------------------------------------------------------------------\u001b[0m",
      "\u001b[1;31mAttributeError\u001b[0m                            Traceback (most recent call last)",
      "\u001b[1;32m<ipython-input-172-3e93a2752840>\u001b[0m in \u001b[0;36m<module>\u001b[1;34m()\u001b[0m\n\u001b[1;32m----> 1\u001b[1;33m \u001b[0mheader_tfidf\u001b[0m\u001b[1;33m.\u001b[0m\u001b[0mshape\u001b[0m\u001b[1;33m\u001b[0m\u001b[0m\n\u001b[0m",
      "\u001b[1;31mAttributeError\u001b[0m: 'list' object has no attribute 'shape'"
     ]
    }
   ],
   "source": [
    "header_tfidf"
   ]
  },
  {
   "cell_type": "code",
   "execution_count": 173,
   "metadata": {},
   "outputs": [
    {
     "name": "stdout",
     "output_type": "stream",
     "text": [
      "Cluster 0:\n",
      " north\n",
      " korea\n",
      " kim\n",
      " korean\n",
      " jong\n",
      " malaysia\n",
      " china\n",
      " nam\n",
      " south\n",
      " malaysian\n",
      "Cluster 1:\n",
      " said\n",
      " thi\n",
      " govern\n",
      " year\n",
      " state\n",
      " peopl\n",
      " parti\n",
      " countri\n",
      " presid\n",
      " would\n",
      "Cluster 2:\n",
      " israel\n",
      " palestinian\n",
      " isra\n",
      " attack\n",
      " said\n",
      " pakistan\n",
      " kill\n",
      " gaza\n",
      " group\n",
      " soldier\n",
      "Cluster 3:\n",
      " notif\n",
      " page\n",
      " pleas\n",
      " subscript\n",
      " email\n",
      " read\n",
      " save\n",
      " gang\n",
      " servic\n",
      " account\n",
      "Cluster 4:\n",
      " ngo\n",
      " fund\n",
      " gateston\n",
      " right\n",
      " human\n",
      " money\n",
      " europ\n",
      " israel\n",
      " group\n",
      " radic\n",
      "Cluster 5:\n",
      " trump\n",
      " presid\n",
      " russia\n",
      " russian\n",
      " said\n",
      " elect\n",
      " obama\n",
      " donald\n",
      " democrat\n",
      " thi\n",
      "Cluster 6:\n",
      " kaplan\n",
      " herald\n",
      " rape\n",
      " telegraph\n",
      " rewritten\n",
      " redistribut\n",
      " storm\n",
      " prior\n",
      " briefcopyright\n",
      " broadcast\n",
      "Cluster 7:\n",
      " pakistan\n",
      " trump\n",
      " afghanistan\n",
      " tweet\n",
      " terrorist\n",
      " aid\n",
      " given\n",
      " safe\n",
      " deceit\n",
      " lie\n",
      "Cluster 8:\n",
      " iran\n",
      " protest\n",
      " iranian\n",
      " rouhani\n",
      " demonstr\n",
      " tehran\n",
      " peopl\n",
      " govern\n",
      " said\n",
      " israel\n",
      "Cluster 9:\n",
      " polic\n",
      " said\n",
      " charg\n",
      " arrest\n",
      " year\n",
      " offic\n",
      " counti\n",
      " man\n",
      " old\n",
      " kill\n"
     ]
    }
   ],
   "source": [
    "terms = header_tfidf\n",
    "\n",
    "original = pca.inverse_transform(clf101.cluster_centers_)\n",
    "centroids = original.argsort()[:,::-1]\n",
    "for i in range(10):\n",
    "    print(\"Cluster %d:\" %i),\n",
    "    for ind in centroids[i, :10]:\n",
    "        print(' %s' % terms[ind]),\n",
    "    print"
   ]
  },
  {
   "cell_type": "code",
   "execution_count": null,
   "metadata": {},
   "outputs": [],
   "source": []
  }
 ],
 "metadata": {
  "kernelspec": {
   "display_name": "Python 3",
   "language": "python",
   "name": "python3"
  },
  "language_info": {
   "codemirror_mode": {
    "name": "ipython",
    "version": 3
   },
   "file_extension": ".py",
   "mimetype": "text/x-python",
   "name": "python",
   "nbconvert_exporter": "python",
   "pygments_lexer": "ipython3",
   "version": "3.7.0"
  }
 },
 "nbformat": 4,
 "nbformat_minor": 2
}
