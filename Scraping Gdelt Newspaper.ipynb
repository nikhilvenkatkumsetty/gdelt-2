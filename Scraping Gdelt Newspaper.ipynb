{
 "cells": [
  {
   "cell_type": "code",
   "execution_count": 1,
   "metadata": {},
   "outputs": [],
   "source": [
    "from newspaper import Article\n",
    "import nltk\n",
    "import newspaper\n",
    "import pandas as pd"
   ]
  },
  {
   "cell_type": "code",
   "execution_count": 2,
   "metadata": {},
   "outputs": [],
   "source": [
    "from nltk.tokenize import word_tokenize\n",
    "from nltk.stem import WordNetLemmatizer\n",
    "from collections import Counter\n",
    "import nltk"
   ]
  },
  {
   "cell_type": "code",
   "execution_count": 3,
   "metadata": {},
   "outputs": [],
   "source": [
    "from nltk.corpus import stopwords \n",
    "from nltk.tokenize import word_tokenize\n",
    "import string"
   ]
  },
  {
   "cell_type": "markdown",
   "metadata": {},
   "source": [
    "# Read Data"
   ]
  },
  {
   "cell_type": "code",
   "execution_count": 4,
   "metadata": {},
   "outputs": [],
   "source": [
    "header = [\"GlobalEventId\", \"sqldate\", \"MonthYear\",\"Year\",\n",
    "               \"Actor1Code\",\"Actor1Name\",\"Actor1CountryCode\",\"Actor1KnownGroupCode\",\"Actor1Type1Code\",\n",
    "               \"Actor2Code\",\"Actor2Name\",\"Actor2CountryCode\",\"Actor2KnownGroupCode\",\"Actor2Type1Code\",\n",
    "               \"IsRootEvent\",\"EventCode\",\"EventBaseCode\",\"EventRootCode\",\n",
    "               \"QuadClass\",\"GoldsteinScale\",\"NumMentions\",\"NumSources\",\"NumArticles\",\"AvgTone\",\n",
    "               \"Actor1Geo_FullName\",\"Actor1Geo_CountryCode\",\"Actor1Geo_ADM1Code\",\"Actor1Geo_Lat\",\"Actor1Geo_Long\",\n",
    "               \"Actor2Geo_FullName\",\"Actor2Geo_CountryCode\",\"Actor2Geo_ADM1Code\",\"Actor2Geo_Lat\",\"Actor2Geo_Long\",\n",
    "               \"ActionGeo_FullName\",\"ActionGeo_CountryCode\",\"ActionGeo_ADM1Code\",\"ActionGeo_Lat\",\"ActionGeo_Long\",\n",
    "               \"SOURCEURL\"]"
   ]
  },
  {
   "cell_type": "code",
   "execution_count": 11,
   "metadata": {},
   "outputs": [
    {
     "data": {
      "text/html": [
       "<div>\n",
       "<style scoped>\n",
       "    .dataframe tbody tr th:only-of-type {\n",
       "        vertical-align: middle;\n",
       "    }\n",
       "\n",
       "    .dataframe tbody tr th {\n",
       "        vertical-align: top;\n",
       "    }\n",
       "\n",
       "    .dataframe thead th {\n",
       "        text-align: right;\n",
       "    }\n",
       "</style>\n",
       "<table border=\"1\" class=\"dataframe\">\n",
       "  <thead>\n",
       "    <tr style=\"text-align: right;\">\n",
       "      <th></th>\n",
       "      <th>GlobalEventId</th>\n",
       "      <th>sqldate</th>\n",
       "      <th>MonthYear</th>\n",
       "      <th>Year</th>\n",
       "      <th>Actor1Code</th>\n",
       "      <th>Actor1Name</th>\n",
       "      <th>Actor1CountryCode</th>\n",
       "      <th>Actor1KnownGroupCode</th>\n",
       "      <th>Actor1Type1Code</th>\n",
       "      <th>Actor2Code</th>\n",
       "      <th>...</th>\n",
       "      <th>Actor2Geo_CountryCode</th>\n",
       "      <th>Actor2Geo_ADM1Code</th>\n",
       "      <th>Actor2Geo_Lat</th>\n",
       "      <th>Actor2Geo_Long</th>\n",
       "      <th>ActionGeo_FullName</th>\n",
       "      <th>ActionGeo_CountryCode</th>\n",
       "      <th>ActionGeo_ADM1Code</th>\n",
       "      <th>ActionGeo_Lat</th>\n",
       "      <th>ActionGeo_Long</th>\n",
       "      <th>SOURCEURL</th>\n",
       "    </tr>\n",
       "  </thead>\n",
       "  <tbody>\n",
       "    <tr>\n",
       "      <th>1046203</th>\n",
       "      <td>694904606</td>\n",
       "      <td>20171004</td>\n",
       "      <td>201710</td>\n",
       "      <td>2017</td>\n",
       "      <td>GOV</td>\n",
       "      <td>MINIST</td>\n",
       "      <td>NaN</td>\n",
       "      <td>NaN</td>\n",
       "      <td>GOV</td>\n",
       "      <td>NaN</td>\n",
       "      <td>...</td>\n",
       "      <td>NaN</td>\n",
       "      <td>NaN</td>\n",
       "      <td>NaN</td>\n",
       "      <td>NaN</td>\n",
       "      <td>Nigeria</td>\n",
       "      <td>NI</td>\n",
       "      <td>NI</td>\n",
       "      <td>10.0000</td>\n",
       "      <td>8.0000</td>\n",
       "      <td>http://naija247news.com/2017/10/03/25bln-contr...</td>\n",
       "    </tr>\n",
       "    <tr>\n",
       "      <th>334402</th>\n",
       "      <td>640705415</td>\n",
       "      <td>20170327</td>\n",
       "      <td>201703</td>\n",
       "      <td>2017</td>\n",
       "      <td>NaN</td>\n",
       "      <td>NaN</td>\n",
       "      <td>NaN</td>\n",
       "      <td>NaN</td>\n",
       "      <td>NaN</td>\n",
       "      <td>AUS</td>\n",
       "      <td>...</td>\n",
       "      <td>AS</td>\n",
       "      <td>AS02</td>\n",
       "      <td>-33.8833</td>\n",
       "      <td>151.2170</td>\n",
       "      <td>Guangdong, Jilin, China</td>\n",
       "      <td>CH</td>\n",
       "      <td>CH05</td>\n",
       "      <td>42.7683</td>\n",
       "      <td>129.3360</td>\n",
       "      <td>http://www.abc.net.au/news/2017-03-27/ice-bust...</td>\n",
       "    </tr>\n",
       "    <tr>\n",
       "      <th>764068</th>\n",
       "      <td>672673361</td>\n",
       "      <td>20170713</td>\n",
       "      <td>201707</td>\n",
       "      <td>2017</td>\n",
       "      <td>USAGOV</td>\n",
       "      <td>UNITED STATES</td>\n",
       "      <td>USA</td>\n",
       "      <td>NaN</td>\n",
       "      <td>GOV</td>\n",
       "      <td>GOV</td>\n",
       "      <td>...</td>\n",
       "      <td>US</td>\n",
       "      <td>USDC</td>\n",
       "      <td>38.8951</td>\n",
       "      <td>-77.0364</td>\n",
       "      <td>White House, District of Columbia, United States</td>\n",
       "      <td>US</td>\n",
       "      <td>USDC</td>\n",
       "      <td>38.8951</td>\n",
       "      <td>-77.0364</td>\n",
       "      <td>http://www.mysanantonio.com/news/crime/article...</td>\n",
       "    </tr>\n",
       "    <tr>\n",
       "      <th>848986</th>\n",
       "      <td>679245603</td>\n",
       "      <td>20170807</td>\n",
       "      <td>201708</td>\n",
       "      <td>2017</td>\n",
       "      <td>NaN</td>\n",
       "      <td>NaN</td>\n",
       "      <td>NaN</td>\n",
       "      <td>NaN</td>\n",
       "      <td>NaN</td>\n",
       "      <td>AFRGOV</td>\n",
       "      <td>...</td>\n",
       "      <td>SF</td>\n",
       "      <td>SF11</td>\n",
       "      <td>-34.0333</td>\n",
       "      <td>18.3500</td>\n",
       "      <td>Hout Bay, Western Cape, South Africa</td>\n",
       "      <td>SF</td>\n",
       "      <td>SF11</td>\n",
       "      <td>-34.0333</td>\n",
       "      <td>18.3500</td>\n",
       "      <td>https://www.timeslive.co.za/news/south-africa/...</td>\n",
       "    </tr>\n",
       "  </tbody>\n",
       "</table>\n",
       "<p>4 rows × 40 columns</p>\n",
       "</div>"
      ],
      "text/plain": [
       "         GlobalEventId   sqldate  MonthYear  Year Actor1Code     Actor1Name  \\\n",
       "1046203      694904606  20171004     201710  2017        GOV         MINIST   \n",
       "334402       640705415  20170327     201703  2017        NaN            NaN   \n",
       "764068       672673361  20170713     201707  2017     USAGOV  UNITED STATES   \n",
       "848986       679245603  20170807     201708  2017        NaN            NaN   \n",
       "\n",
       "        Actor1CountryCode Actor1KnownGroupCode Actor1Type1Code Actor2Code  \\\n",
       "1046203               NaN                  NaN             GOV        NaN   \n",
       "334402                NaN                  NaN             NaN        AUS   \n",
       "764068                USA                  NaN             GOV        GOV   \n",
       "848986                NaN                  NaN             NaN     AFRGOV   \n",
       "\n",
       "                               ...                          \\\n",
       "1046203                        ...                           \n",
       "334402                         ...                           \n",
       "764068                         ...                           \n",
       "848986                         ...                           \n",
       "\n",
       "        Actor2Geo_CountryCode Actor2Geo_ADM1Code Actor2Geo_Lat Actor2Geo_Long  \\\n",
       "1046203                   NaN                NaN           NaN            NaN   \n",
       "334402                     AS               AS02      -33.8833       151.2170   \n",
       "764068                     US               USDC       38.8951       -77.0364   \n",
       "848986                     SF               SF11      -34.0333        18.3500   \n",
       "\n",
       "                                       ActionGeo_FullName  \\\n",
       "1046203                                           Nigeria   \n",
       "334402                            Guangdong, Jilin, China   \n",
       "764068   White House, District of Columbia, United States   \n",
       "848986               Hout Bay, Western Cape, South Africa   \n",
       "\n",
       "         ActionGeo_CountryCode  ActionGeo_ADM1Code  ActionGeo_Lat  \\\n",
       "1046203                     NI                  NI        10.0000   \n",
       "334402                      CH                CH05        42.7683   \n",
       "764068                      US                USDC        38.8951   \n",
       "848986                      SF                SF11       -34.0333   \n",
       "\n",
       "         ActionGeo_Long                                          SOURCEURL  \n",
       "1046203          8.0000  http://naija247news.com/2017/10/03/25bln-contr...  \n",
       "334402         129.3360  http://www.abc.net.au/news/2017-03-27/ice-bust...  \n",
       "764068         -77.0364  http://www.mysanantonio.com/news/crime/article...  \n",
       "848986          18.3500  https://www.timeslive.co.za/news/south-africa/...  \n",
       "\n",
       "[4 rows x 40 columns]"
      ]
     },
     "execution_count": 11,
     "metadata": {},
     "output_type": "execute_result"
    }
   ],
   "source": [
    "#ubah path_clean sesuai tempat clean di lokal\n",
    "path_clean = 'E:/digitalent-project/csv/2017-clean.csv'\n",
    "data_gdelt = pd.read_csv(path_clean, delimiter = ',', encoding = \"ISO-8859-1\", names=header)\n",
    "data_gdelt.sample(4)"
   ]
  },
  {
   "cell_type": "code",
   "execution_count": 14,
   "metadata": {},
   "outputs": [],
   "source": [
    "stop_words = set(stopwords.words('english'))"
   ]
  },
  {
   "cell_type": "code",
   "execution_count": 24,
   "metadata": {},
   "outputs": [],
   "source": [
    "# contoh 1 URL\n",
    "sample=data_gdelt['SOURCEURL'][0]\n",
    "sample\n",
    "sample_ID = data_gdelt['GlobalEventId'][0]"
   ]
  },
  {
   "cell_type": "code",
   "execution_count": 20,
   "metadata": {},
   "outputs": [
    {
     "name": "stdout",
     "output_type": "stream",
     "text": [
      "http://nbc16.com/news/local/train-hits-and-kills-teen-boy-in-keizer\n",
      "http://www.heraldtribune.com/news/20161231/lyons-frontier-is-worthy-suspect-in-fire-alarm-glitch\n",
      "https://www.thenews.com.pk/print/175863-Official-figures-say-10-murdered-32-robbed-daily-in-Punjab-in-2016\n",
      "http://www.news.com.au/national/nsw-act/new-years-eve-two-dead-another-critical-but-police-praise-sydneysiders/news-story/cb63d606b821dfa702ba10cb993f9d15\n",
      "http://www.princegeorgecitizen.com/news/local-news/senior-vancouver-police-officer-charged-with-sex-crimes-and-breach-of-trust-1.5803598\n"
     ]
    }
   ],
   "source": [
    "result = {}\n",
    "for i in range(0,5):\n",
    "     link = data_gdelt['SOURCEURL'][i]\n",
    "     geventID = data_gdelt['GlobalEventId'][i]\n",
    "     get_link(geventID,link)"
   ]
  },
  {
   "cell_type": "code",
   "execution_count": 91,
   "metadata": {},
   "outputs": [],
   "source": [
    "res = {}"
   ]
  },
  {
   "cell_type": "markdown",
   "metadata": {},
   "source": [
    "# Fungsi Scrapping"
   ]
  },
  {
   "cell_type": "code",
   "execution_count": 95,
   "metadata": {},
   "outputs": [],
   "source": [
    "def scrap_article(gid, source):\n",
    "    article = Article(source)\n",
    "    article.download()\n",
    "    article.parse()\n",
    "    article.nlp()\n",
    "    \n",
    "    #jadiin lowercase\n",
    "    txt = article.text.lower()\n",
    "    #hapus \\n \\t dll\n",
    "    txt_clean = ''.join([x for x in txt if x in string.ascii_letters + '\\'- '])\n",
    "    #jadikan kata perkata\n",
    "    word_tokens = word_tokenize(txt_clean)\n",
    "    #filter kata: yang disimpan cuma kata2 yang ga ada di stopword\n",
    "    filtered_sentence = [w for w in word_tokens if not w in stop_words]\n",
    "    print(type(filtered_sentence))\n",
    "    #hitung kemunculan tiap kata\n",
    "    aa = dict((Counter(filtered_sentence)).most_common(20))\n",
    "    res[gid] = aa\n",
    "    return aa\n",
    "    "
   ]
  },
  {
   "cell_type": "code",
   "execution_count": 96,
   "metadata": {},
   "outputs": [
    {
     "name": "stdout",
     "output_type": "stream",
     "text": [
      "<class 'list'>\n",
      "{'keizer': 6, 'train': 4, 'police': 4, 'ne': 3, 'marion': 3, 'county': 3, 'station': 2, 'tepper': 2, 'lane': 2, 'department': 2, 'say': 2, 'railroad': 2, 'time': 2, 'deceased': 2, 'office': 2, 'ore': 1, 'hit': 1, 'killed': 1, 'pedestrian': 1, 'near': 1} <class 'dict'>\n",
      "<class 'list'>\n",
      "{'frontier': 11, 'alarm': 10, 'fire': 8, 'one': 7, 'company': 7, 'sarasota': 4, 'building': 4, 'medical': 4, 'told': 4, 'department': 4, 'said': 4, 'many': 4, 'problem': 4, 'could': 3, 'back': 3, 'minutes': 3, 'two': 3, 'getting': 3, 'log': 3, 'contacted': 3} <class 'dict'>\n"
     ]
    }
   ],
   "source": [
    "for x in range(2):\n",
    "    # contoh 1 URL\n",
    "    sample_=data_gdelt['SOURCEURL'][x]\n",
    "    sample_ID_ = data_gdelt['GlobalEventId'][x]\n",
    "    aaa = scrap_article(sample_ID_, sample_)\n",
    "    print(aaa, type(aaa))"
   ]
  },
  {
   "cell_type": "code",
   "execution_count": 60,
   "metadata": {},
   "outputs": [
    {
     "name": "stdout",
     "output_type": "stream",
     "text": [
      "<class 'dict'>\n"
     ]
    }
   ],
   "source": [
    "print(type(aaa))"
   ]
  },
  {
   "cell_type": "code",
   "execution_count": 97,
   "metadata": {},
   "outputs": [
    {
     "data": {
      "text/plain": [
       "{613248567: {'keizer': 6,\n",
       "  'train': 4,\n",
       "  'police': 4,\n",
       "  'ne': 3,\n",
       "  'marion': 3,\n",
       "  'county': 3,\n",
       "  'station': 2,\n",
       "  'tepper': 2,\n",
       "  'lane': 2,\n",
       "  'department': 2,\n",
       "  'say': 2,\n",
       "  'railroad': 2,\n",
       "  'time': 2,\n",
       "  'deceased': 2,\n",
       "  'office': 2,\n",
       "  'ore': 1,\n",
       "  'hit': 1,\n",
       "  'killed': 1,\n",
       "  'pedestrian': 1,\n",
       "  'near': 1},\n",
       " 613248634: {'frontier': 11,\n",
       "  'alarm': 10,\n",
       "  'fire': 8,\n",
       "  'one': 7,\n",
       "  'company': 7,\n",
       "  'sarasota': 4,\n",
       "  'building': 4,\n",
       "  'medical': 4,\n",
       "  'told': 4,\n",
       "  'department': 4,\n",
       "  'said': 4,\n",
       "  'many': 4,\n",
       "  'problem': 4,\n",
       "  'could': 3,\n",
       "  'back': 3,\n",
       "  'minutes': 3,\n",
       "  'two': 3,\n",
       "  'getting': 3,\n",
       "  'log': 3,\n",
       "  'contacted': 3}}"
      ]
     },
     "execution_count": 97,
     "metadata": {},
     "output_type": "execute_result"
    }
   ],
   "source": [
    "res"
   ]
  },
  {
   "cell_type": "code",
   "execution_count": null,
   "metadata": {},
   "outputs": [],
   "source": []
  }
 ],
 "metadata": {
  "kernelspec": {
   "display_name": "Python 3",
   "language": "python",
   "name": "python3"
  },
  "language_info": {
   "codemirror_mode": {
    "name": "ipython",
    "version": 3
   },
   "file_extension": ".py",
   "mimetype": "text/x-python",
   "name": "python",
   "nbconvert_exporter": "python",
   "pygments_lexer": "ipython3",
   "version": "3.7.0"
  }
 },
 "nbformat": 4,
 "nbformat_minor": 2
}
